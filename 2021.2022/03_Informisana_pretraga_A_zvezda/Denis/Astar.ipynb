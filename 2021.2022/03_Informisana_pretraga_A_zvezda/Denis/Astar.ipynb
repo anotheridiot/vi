{
 "cells": [
  {
   "cell_type": "code",
   "execution_count": 1,
   "id": "7c9ae1e3",
   "metadata": {},
   "outputs": [],
   "source": [
    "import json"
   ]
  },
  {
   "cell_type": "code",
   "execution_count": 2,
   "id": "f2c31744",
   "metadata": {},
   "outputs": [],
   "source": [
    "def ucitaj_graf(putanja):\n",
    "    try:\n",
    "        with open(putanja, \"r\") as f:\n",
    "            podaci = json.load(f)\n",
    "            return dict(podaci)\n",
    "    except:\n",
    "        print(\"Greska!\")\n",
    "        return None"
   ]
  },
  {
   "cell_type": "code",
   "execution_count": 3,
   "id": "e8e1106c",
   "metadata": {},
   "outputs": [],
   "source": [
    "G = ucitaj_graf(\"./cities.json\")"
   ]
  },
  {
   "cell_type": "code",
   "execution_count": 7,
   "id": "1e782931",
   "metadata": {},
   "outputs": [
    {
     "data": {
      "text/plain": [
       "[['Zerind', 71], ['Sibiu', 151]]"
      ]
     },
     "execution_count": 7,
     "metadata": {},
     "output_type": "execute_result"
    }
   ],
   "source": [
    "G[\"Oradea\"]"
   ]
  },
  {
   "cell_type": "code",
   "execution_count": 14,
   "id": "611335be",
   "metadata": {},
   "outputs": [],
   "source": [
    "from typing import List\n",
    "\n",
    "def dijkstra(G: dict, pocetak: str, kraj: str) -> List[str]:\n",
    "    Q = set(G.keys())\n",
    "    \n",
    "    cene = {}\n",
    "    for cvor in Q:\n",
    "        cene[cvor] = float('inf')\n",
    "    \n",
    "    cene[pocetak] = 0\n",
    "    \n",
    "    roditelji = {}\n",
    "    for cvor in Q:\n",
    "        roditelji[cvor] = None\n",
    "    \n",
    "    iteration = 0\n",
    "    while len(Q) > 0:\n",
    "        iteration += 1\n",
    "        \n",
    "        n = None\n",
    "        for w in Q:\n",
    "            if n == None or (cene[w] != float('inf') and cene[w] < cene[n]):\n",
    "                n = w\n",
    "        \n",
    "        Q.remove(n)\n",
    "        \n",
    "        if n == kraj:\n",
    "            print(\"Nadjen put!\")\n",
    "            print(iteration)\n",
    "            #rekonstruisi put\n",
    "            #n -> roditelj[n] -> roditelj[roditelj[n]] -> .. -> pocetak \n",
    "            putanja = [n]\n",
    "            tmp = roditelji[n]\n",
    "            while tmp != pocetak:\n",
    "                putanja.append(tmp)\n",
    "                tmp = roditelji[tmp]\n",
    "            putanja.append(pocetak)\n",
    "            putanja.reverse()\n",
    "            \n",
    "            return putanja\n",
    "            \n",
    "        for m, tezina in G[n]:\n",
    "            if cene[m] == float('inf') or cene[n] + tezina < cene[m]:\n",
    "                cene[m] = cene[n] + tezina\n",
    "                roditelji[m] = n\n",
    "    \n",
    "    return []"
   ]
  },
  {
   "cell_type": "code",
   "execution_count": 15,
   "id": "8fda78bd",
   "metadata": {
    "scrolled": true
   },
   "outputs": [
    {
     "name": "stdout",
     "output_type": "stream",
     "text": [
      "Nadjen put!\n",
      "13\n",
      "['Arad', 'Sibiu', 'Rimnicu Vilacea', 'Pitesti', 'Buchares']\n"
     ]
    }
   ],
   "source": [
    "print(dijkstra(G, \"Arad\", \"Buchares\"))"
   ]
  },
  {
   "cell_type": "code",
   "execution_count": 16,
   "id": "1863fae7",
   "metadata": {},
   "outputs": [],
   "source": [
    "def h(n):\n",
    "    H = {\n",
    "        'Oradea' : 380,\n",
    "        'Zerind' : 374,\n",
    "        'Arad' : 366,\n",
    "        'Timisoara' : 329,\n",
    "        'Lugoj' : 244,\n",
    "        'Mehadia' : 241,\n",
    "        'Drobeta' : 242,\n",
    "        'Sibiu' : 253,\n",
    "        'Fagaras' : 176,\n",
    "        'Rimnicu Vilacea' : 193,\n",
    "        'Pitesti' : 100,\n",
    "        'Craiova' : 160,\n",
    "        'Buchares' : 0\n",
    "    }\n",
    "    return H[n]"
   ]
  },
  {
   "cell_type": "code",
   "execution_count": 22,
   "id": "f026e01f",
   "metadata": {},
   "outputs": [],
   "source": [
    "def astar(G, start, stop):\n",
    "    open_list = set([start])\n",
    "    closed_list = set([])\n",
    "    \n",
    "    g = {}\n",
    "    g[start] = 0\n",
    "    \n",
    "    parents = {}\n",
    "    parents[start] = None\n",
    "    \n",
    "    iteration = 0\n",
    "    while len(open_list) > 0:\n",
    "        iteration += 1\n",
    "        n = None\n",
    "        for v in open_list:\n",
    "            if n == None or g[v] + h(v) < g[n] + h(n): \n",
    "                n = v\n",
    "        if n == None:\n",
    "            print(\"Ne postoji put!\")\n",
    "            return []\n",
    "        \n",
    "        if n == stop:\n",
    "            print(\"Postoji put!\")\n",
    "            print(iteration)\n",
    "            path = [stop]\n",
    "            tmp = parents[stop]\n",
    "            while tmp != None:\n",
    "                path.append(tmp)\n",
    "                tmp = parents[tmp]\n",
    "            path.reverse()\n",
    "            return path\n",
    "        \n",
    "        for m, weight in G[n]:\n",
    "            if m not in open_list and m not in closed_list:\n",
    "                open_list.add(m)\n",
    "                parents[m] = n\n",
    "                g[m] = g[n] + weight\n",
    "            else:\n",
    "                if g[m] > g[n] + weight:\n",
    "                    g[m] = g[n] + weight\n",
    "                    parents[m] = n\n",
    "                    \n",
    "                    if m in closed_list:\n",
    "                        closed_list.remove(m)\n",
    "                        open_list.add(m)\n",
    "        \n",
    "        open_list.remove(n)\n",
    "        closed_list.add(n)"
   ]
  },
  {
   "cell_type": "code",
   "execution_count": 23,
   "id": "fc801478",
   "metadata": {},
   "outputs": [
    {
     "name": "stdout",
     "output_type": "stream",
     "text": [
      "Postoji put!\n",
      "6\n",
      "['Arad', 'Sibiu', 'Rimnicu Vilacea', 'Pitesti', 'Buchares']\n"
     ]
    }
   ],
   "source": [
    "print(astar(G, \"Arad\", \"Buchares\"))"
   ]
  },
  {
   "cell_type": "code",
   "execution_count": null,
   "id": "568ae470",
   "metadata": {},
   "outputs": [],
   "source": []
  }
 ],
 "metadata": {
  "kernelspec": {
   "display_name": "Python 3",
   "language": "python",
   "name": "python3"
  },
  "language_info": {
   "codemirror_mode": {
    "name": "ipython",
    "version": 3
   },
   "file_extension": ".py",
   "mimetype": "text/x-python",
   "name": "python",
   "nbconvert_exporter": "python",
   "pygments_lexer": "ipython3",
   "version": "3.8.5"
  }
 },
 "nbformat": 4,
 "nbformat_minor": 5
}
