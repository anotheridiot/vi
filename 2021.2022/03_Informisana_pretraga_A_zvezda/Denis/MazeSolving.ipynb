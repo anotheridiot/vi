{
 "cells": [
  {
   "cell_type": "code",
   "execution_count": 1,
   "id": "d8e181bf",
   "metadata": {},
   "outputs": [],
   "source": [
    "import copy"
   ]
  },
  {
   "cell_type": "code",
   "execution_count": 2,
   "id": "89b652e6",
   "metadata": {},
   "outputs": [],
   "source": [
    "# S - ulazak\n",
    "# X - ne moze tuda\n",
    "# F - izlaz\n",
    "# . - mozemo, 1\n",
    "# # - mozemo, 2\n",
    "# G = {\n",
    "# (i, j) -> [((k, l), w)]\n",
    "#}"
   ]
  },
  {
   "cell_type": "code",
   "execution_count": 8,
   "id": "75675199",
   "metadata": {},
   "outputs": [],
   "source": [
    "maze_matrix = [['S', '#','.', '.', 'X', '#', '#','.'],\n",
    "                 ['.', 'X','#', '.', 'X', '#', '#', '.'],\n",
    "                 ['.', '.','.', '.', '.', '#', 'X', '.'],\n",
    "                 ['.', 'X','X', '#', 'X', '.', 'X', '.'],\n",
    "                 ['#', '.','.', '.', 'X', '.', 'X', '.'],\n",
    "                 ['.', 'X','#', '#', '.', '#', '.', '.'],\n",
    "                 ['.', '#','.', '.', 'X', '.', '#', '.'],\n",
    "                 ['.', '#','.', '.', 'X', '#', '#', 'F']]"
   ]
  },
  {
   "cell_type": "code",
   "execution_count": 25,
   "id": "58cbe3d5",
   "metadata": {},
   "outputs": [],
   "source": [
    "class Maze:\n",
    "    def __init__(self, maze_matrix):\n",
    "        self.start, self.finish, self.G = self.convert_matrix_to_graph(maze_matrix)\n",
    "        self.maze_matrix = maze_matrix\n",
    "    \n",
    "    def convert_matrix_to_graph(self, maze_matrix):\n",
    "        G = {}\n",
    "        start = None\n",
    "        finish = None\n",
    "        n = len(maze_matrix)\n",
    "        m = len(maze_matrix[0])\n",
    "        \n",
    "        for i in range(n):\n",
    "            for j in range(m):\n",
    "                v = (i, j)\n",
    "                neighbors = []\n",
    "                if maze_matrix[i][j] != 'X':\n",
    "                    if maze_matrix[i][j] == 'S':\n",
    "                        start = v\n",
    "                    if maze_matrix[i][j] == 'F':\n",
    "                        finish = v\n",
    "                    if i > 0:\n",
    "                        if maze_matrix[i-1][j] != 'X':\n",
    "                            w = (i-1, j)\n",
    "                            if maze_matrix[i-1][j] == '#':\n",
    "                                weight = 2\n",
    "                            else:\n",
    "                                weight = 1\n",
    "                            neighbors.append((w, weight))\n",
    "                    if i < n-1:\n",
    "                        if maze_matrix[i+1][j] != 'X':\n",
    "                            w = (i+1, j)\n",
    "                            if maze_matrix[i+1][j] == '#':\n",
    "                                weight = 2\n",
    "                            else:\n",
    "                                weight = 1\n",
    "                            neighbors.append((w, weight))\n",
    "                    \n",
    "                    if j > 0:\n",
    "                        if maze_matrix[i][j-1] != 'X':\n",
    "                            w = (i, j-1)\n",
    "                            if maze_matrix[i][j-1] == '#':\n",
    "                                weight = 2\n",
    "                            else:\n",
    "                                weight = 1\n",
    "                            neighbors.append((w, weight))\n",
    "                            \n",
    "                    if j < m-1:\n",
    "                        if maze_matrix[i][j+1] != 'X':\n",
    "                            w = (i, j+1)\n",
    "                            if maze_matrix[i][j+1] == '#':\n",
    "                                weight = 2\n",
    "                            else:\n",
    "                                weight = 1\n",
    "                            neighbors.append((w, weight))\n",
    "                G[v] = neighbors\n",
    "        return start, finish, G\n",
    "    \n",
    "    def h(self, v_coords):\n",
    "        v_x1 = int(v_coords[0])\n",
    "        v_y1 = int(v_coords[1])\n",
    "        finish_x1 = int(self.finish[0])\n",
    "        finish_y1 = int(self.finish[1])\n",
    "        \n",
    "        return abs(v_x1 - finish_x1) + abs(v_y1 - finish_y1)\n",
    "    \n",
    "    def astar(self, start, stop):\n",
    "        open_list = set([start])\n",
    "        closed_list = set([])\n",
    "        \n",
    "        g = {}\n",
    "        g[start] = 0\n",
    "        parents = {}\n",
    "        parents[start] = None\n",
    "        \n",
    "        while len(open_list) > 0:\n",
    "            n = None\n",
    "            for v in open_list:\n",
    "                if n == None or g[v] + self.h(v) < g[n] + self.h(n):\n",
    "                    n = v\n",
    "            if n == stop:\n",
    "                path = []\n",
    "                path.append(stop)\n",
    "                tmp = parents[stop]\n",
    "                while tmp != None:\n",
    "                    path.append(tmp)\n",
    "                    tmp = parents[tmp]\n",
    "\n",
    "                path.reverse()\n",
    "                return path\n",
    "            \n",
    "            for m, weight in self.G[n]:\n",
    "                if m not in open_list and m not in closed_list:\n",
    "                    open_list.add(m)\n",
    "                    parents[m] = n\n",
    "                    g[m] = g[n] + weight\n",
    "                else:\n",
    "                    if g[m] > g[n] + weight:\n",
    "                        g[m] = g[n] + weight\n",
    "                        parents[m] = n\n",
    "                        \n",
    "                        if m in closed_list:\n",
    "                            closed_list.remove(m)\n",
    "                            open_list.add(m)\n",
    "            open_list.remove(n)\n",
    "            closed_list.add(n)\n",
    "        \n",
    "        return None\n",
    "    \n",
    "    def solve(self):\n",
    "        path = self.astar(self.start, self.finish)\n",
    "        return path\n",
    "    "
   ]
  },
  {
   "cell_type": "code",
   "execution_count": 26,
   "id": "b03f5d33",
   "metadata": {},
   "outputs": [],
   "source": [
    "maze = Maze(maze_matrix)"
   ]
  },
  {
   "cell_type": "code",
   "execution_count": 27,
   "id": "4f53ad7e",
   "metadata": {},
   "outputs": [
    {
     "name": "stdout",
     "output_type": "stream",
     "text": [
      "[(0, 0), (1, 0), (2, 0), (2, 1), (2, 2), (2, 3), (2, 4), (2, 5), (3, 5), (4, 5), (5, 5), (5, 6), (5, 7), (6, 7), (7, 7)]\n"
     ]
    }
   ],
   "source": [
    "print(maze.solve())"
   ]
  },
  {
   "cell_type": "code",
   "execution_count": null,
   "id": "faa8efe6",
   "metadata": {},
   "outputs": [],
   "source": [
    "maze_matrix = [['S', '#','.', '.', 'X', '#', '#','.'],\n",
    "                 ['.', 'X','#', '.', 'X', '#', '#', '.'],\n",
    "                 ['.', '.','.', '.', '.', '#', 'X', '.'],\n",
    "                 ['.', 'X','X', '#', 'X', '.', 'X', '.'],\n",
    "                 ['#', '.','.', '.', 'X', '.', 'X', '.'],\n",
    "                 ['.', 'X','#', '#', '.', '#', '.', '.'],\n",
    "                 ['.', '#','.', '.', 'X', '.', '#', '.'],\n",
    "                 ['.', '#','.', '.', 'X', '#', '#', 'F']]"
   ]
  }
 ],
 "metadata": {
  "kernelspec": {
   "display_name": "Python 3",
   "language": "python",
   "name": "python3"
  },
  "language_info": {
   "codemirror_mode": {
    "name": "ipython",
    "version": 3
   },
   "file_extension": ".py",
   "mimetype": "text/x-python",
   "name": "python",
   "nbconvert_exporter": "python",
   "pygments_lexer": "ipython3",
   "version": "3.8.5"
  }
 },
 "nbformat": 4,
 "nbformat_minor": 5
}
