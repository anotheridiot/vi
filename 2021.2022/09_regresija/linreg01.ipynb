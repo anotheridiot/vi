{
 "cells": [
  {
   "cell_type": "markdown",
   "metadata": {},
   "source": [
    "# Linearna regresije\n",
    "\n",
    "## Skup podataka auto-mpg.csv\n",
    "mpg - Miles per gallon\n",
    "\n",
    "U skupu podataka postoji atribut `mpg` koji predstavlja\n",
    "meru o tome koliko milja auto moze ici ukoliko mu se sipa 1 galon (3.785 litara)\n",
    "\n",
    "Pokusacemo da predvidjamo `mpg' uz pomoc ostalih atributa koristeci linearnu regresiju."
   ]
  },
  {
   "cell_type": "code",
   "execution_count": 1,
   "metadata": {},
   "outputs": [],
   "source": [
    "import pandas as pd\n",
    "import numpy as np\n",
    "from sklearn.model_selection import train_test_split\n",
    "from sklearn.linear_model import LinearRegression\n",
    "from sklearn.metrics import r2_score, mean_squared_error"
   ]
  },
  {
   "cell_type": "code",
   "execution_count": 2,
   "metadata": {},
   "outputs": [
    {
     "data": {
      "text/html": [
       "<div>\n",
       "<style scoped>\n",
       "    .dataframe tbody tr th:only-of-type {\n",
       "        vertical-align: middle;\n",
       "    }\n",
       "\n",
       "    .dataframe tbody tr th {\n",
       "        vertical-align: top;\n",
       "    }\n",
       "\n",
       "    .dataframe thead th {\n",
       "        text-align: right;\n",
       "    }\n",
       "</style>\n",
       "<table border=\"1\" class=\"dataframe\">\n",
       "  <thead>\n",
       "    <tr style=\"text-align: right;\">\n",
       "      <th></th>\n",
       "      <th>mpg</th>\n",
       "      <th>cylinders</th>\n",
       "      <th>displacement</th>\n",
       "      <th>horsepower</th>\n",
       "      <th>weight</th>\n",
       "      <th>acceleration</th>\n",
       "      <th>model-year</th>\n",
       "    </tr>\n",
       "  </thead>\n",
       "  <tbody>\n",
       "    <tr>\n",
       "      <th>0</th>\n",
       "      <td>18.0</td>\n",
       "      <td>8</td>\n",
       "      <td>307.0</td>\n",
       "      <td>130.0</td>\n",
       "      <td>3504</td>\n",
       "      <td>12.0</td>\n",
       "      <td>70</td>\n",
       "    </tr>\n",
       "    <tr>\n",
       "      <th>1</th>\n",
       "      <td>15.0</td>\n",
       "      <td>8</td>\n",
       "      <td>350.0</td>\n",
       "      <td>165.0</td>\n",
       "      <td>3693</td>\n",
       "      <td>11.5</td>\n",
       "      <td>70</td>\n",
       "    </tr>\n",
       "    <tr>\n",
       "      <th>2</th>\n",
       "      <td>18.0</td>\n",
       "      <td>8</td>\n",
       "      <td>318.0</td>\n",
       "      <td>150.0</td>\n",
       "      <td>3436</td>\n",
       "      <td>11.0</td>\n",
       "      <td>70</td>\n",
       "    </tr>\n",
       "    <tr>\n",
       "      <th>3</th>\n",
       "      <td>16.0</td>\n",
       "      <td>8</td>\n",
       "      <td>304.0</td>\n",
       "      <td>150.0</td>\n",
       "      <td>3433</td>\n",
       "      <td>12.0</td>\n",
       "      <td>70</td>\n",
       "    </tr>\n",
       "    <tr>\n",
       "      <th>4</th>\n",
       "      <td>17.0</td>\n",
       "      <td>8</td>\n",
       "      <td>302.0</td>\n",
       "      <td>140.0</td>\n",
       "      <td>3449</td>\n",
       "      <td>10.5</td>\n",
       "      <td>70</td>\n",
       "    </tr>\n",
       "  </tbody>\n",
       "</table>\n",
       "</div>"
      ],
      "text/plain": [
       "    mpg  cylinders  displacement  horsepower  weight  acceleration  model-year\n",
       "0  18.0          8         307.0       130.0    3504          12.0          70\n",
       "1  15.0          8         350.0       165.0    3693          11.5          70\n",
       "2  18.0          8         318.0       150.0    3436          11.0          70\n",
       "3  16.0          8         304.0       150.0    3433          12.0          70\n",
       "4  17.0          8         302.0       140.0    3449          10.5          70"
      ]
     },
     "execution_count": 2,
     "metadata": {},
     "output_type": "execute_result"
    }
   ],
   "source": [
    "# Ucitavamo podatke koristeci funkciju 'read_csv' koja nam vraca\n",
    "# pandas okvir podataka (eng. dataframe).\n",
    "df = pd.read_csv('data/auto-mpg.csv')\n",
    "\n",
    "# Prikazujemo mali podskup podataka kako bi stekli osecaj sa cime radimo.\n",
    "df.head()"
   ]
  },
  {
   "cell_type": "markdown",
   "metadata": {},
   "source": [
    "Nasi imaju sledece atribute:\n",
    "- mpg\n",
    "- cylinders\n",
    "- displacement\n",
    "- horsepower\n",
    "- weight\n",
    "- acceleration\n",
    "- model-year"
   ]
  },
  {
   "cell_type": "code",
   "execution_count": 3,
   "metadata": {},
   "outputs": [],
   "source": [
    "# Za slucaj da postoje neke nepoznate vrednosti u podacima, uklanjamo te podatke.\n",
    "df = df.replace('?', np.nan)\n",
    "df = df.dropna()"
   ]
  },
  {
   "cell_type": "code",
   "execution_count": 4,
   "metadata": {},
   "outputs": [],
   "source": [
    "# Delimo podatke na trening i test skup\n",
    "X = df.drop('mpg', axis=1)          # mpg izostavljamo jer nam predstavlja ciljnu promenljivu\n",
    "y = df[['mpg']]"
   ]
  },
  {
   "cell_type": "markdown",
   "metadata": {},
   "source": [
    "Funkcija `train_test_split` vrsi podelu skupu podataka na trening i test u zavisnosti\n",
    "od prosledjenog odnosa `test_size`. U nasem slucaju, 25% podataka ce biti uzeto kao\n",
    "test skup, a ostakak (75%) kao trening."
   ]
  },
  {
   "cell_type": "code",
   "execution_count": 5,
   "metadata": {},
   "outputs": [],
   "source": [
    "# Funkcija 'train_test_split' vrsi podelu skupu podataka na trening i test u zavisnosti\n",
    "# od prosledjenog odnosa 'test_size'. U nasem slucaju, 25% podataka ce biti uzeto kao\n",
    "# test skup, a ostakak (75%) kao trening.\n",
    "X_train, X_test, y_train, y_test = train_test_split(X, y, test_size=0.25, random_state=42)"
   ]
  },
  {
   "cell_type": "code",
   "execution_count": 6,
   "metadata": {},
   "outputs": [
    {
     "data": {
      "text/plain": [
       "LinearRegression(copy_X=True, fit_intercept=True, n_jobs=None, normalize=False)"
      ]
     },
     "execution_count": 6,
     "metadata": {},
     "output_type": "execute_result"
    }
   ],
   "source": [
    "# Konstruisemo linearnu regresiju i obucavamo model.\n",
    "reg = LinearRegression()\n",
    "reg.fit(X_train, y_train)"
   ]
  },
  {
   "cell_type": "code",
   "execution_count": 7,
   "metadata": {},
   "outputs": [
    {
     "name": "stdout",
     "output_type": "stream",
     "text": [
      "Slobodan clan je -13.824169113397183\n",
      "\n",
      "Koeficijent za cylinders je -0.23813015571486368\n",
      "Koeficijent za displacement je 0.0016839033825601282\n",
      "Koeficijent za horsepower je -0.0002501905818827994\n",
      "Koeficijent za weight je -0.006621560986020141\n",
      "Koeficijent za acceleration je 0.01027366982750994\n",
      "Koeficijent za model-year je 0.7625231149758142\n"
     ]
    }
   ],
   "source": [
    "print('Slobodan clan je {}\\n'.format(reg.intercept_[0]))\n",
    "for idx, col_name in enumerate(X_train.columns):\n",
    "    print('Koeficijent za {} je {}'.format(col_name, reg.coef_[0][idx]))"
   ]
  },
  {
   "cell_type": "code",
   "execution_count": 8,
   "metadata": {},
   "outputs": [
    {
     "name": "stdout",
     "output_type": "stream",
     "text": [
      "\n",
      "R^2 test = 0.7757849559316721\n",
      "R^2 train = 0.8134917530842111\n"
     ]
    }
   ],
   "source": [
    "# Izracunavamo R^2 metriku\n",
    "r2_test = reg.score(X_test, y_test)\n",
    "r2_train = reg.score(X_train, y_train)\n",
    "print('\\nR^2 test = {}'.format(r2_test))\n",
    "print('R^2 train = {}'.format(r2_train))\n",
    "\n",
    "# Drugi nacin\n",
    "# r2_test = r2_score(y_test, reg.predict(X_test))\n",
    "# r2_train = r2_score(y_train, reg.predict(X_train))"
   ]
  },
  {
   "cell_type": "code",
   "execution_count": 9,
   "metadata": {},
   "outputs": [
    {
     "name": "stdout",
     "output_type": "stream",
     "text": [
      "\n",
      "MSE test = 11.054880997716936\n",
      "MSE train = 12.041212192734282\n"
     ]
    }
   ],
   "source": [
    "# Izracunavamo srednje-kvadratnu gresku\n",
    "mse_test = mean_squared_error(y_test, reg.predict(X_test))\n",
    "mse_train = mean_squared_error(y_train, reg.predict(X_train))\n",
    "print('\\nMSE test = {}'.format(mse_test))\n",
    "print('MSE train = {}'.format(mse_train))"
   ]
  },
  {
   "cell_type": "code",
   "execution_count": 10,
   "metadata": {},
   "outputs": [
    {
     "name": "stdout",
     "output_type": "stream",
     "text": [
      "\n",
      "RMSE test = 3.3248881180750933\n",
      "RMSE train = 3.470044984252262\n"
     ]
    }
   ],
   "source": [
    "# Za koliko milja gresimo prosecno?\n",
    "# Izracunacaemo koren srednjekvadratne greske kako bi se vratili u red velicine ciljne promenljive.\n",
    "rmse_test = np.sqrt(mse_test)\n",
    "rmse_train = np.sqrt(mse_train)\n",
    "print('\\nRMSE test = {}'.format(rmse_test))\n",
    "print('RMSE train = {}'.format(rmse_train))"
   ]
  }
 ],
 "metadata": {
  "kernelspec": {
   "display_name": "Python 3 (ipykernel)",
   "language": "python",
   "name": "python3"
  },
  "language_info": {
   "codemirror_mode": {
    "name": "ipython",
    "version": 3
   },
   "file_extension": ".py",
   "mimetype": "text/x-python",
   "name": "python",
   "nbconvert_exporter": "python",
   "pygments_lexer": "ipython3",
   "version": "3.8.10"
  }
 },
 "nbformat": 4,
 "nbformat_minor": 2
}
